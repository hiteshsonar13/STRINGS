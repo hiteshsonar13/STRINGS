{
 "cells": [
  {
   "cell_type": "markdown",
   "id": "2f7eac7c",
   "metadata": {},
   "source": [
    "##### DATE : 03/06/2023 "
   ]
  },
  {
   "cell_type": "code",
   "execution_count": 1,
   "id": "c456ad2e",
   "metadata": {},
   "outputs": [
    {
     "ename": "NameError",
     "evalue": "name 'a' is not defined",
     "output_type": "error",
     "traceback": [
      "\u001b[1;31m---------------------------------------------------------------------------\u001b[0m",
      "\u001b[1;31mNameError\u001b[0m                                 Traceback (most recent call last)",
      "Cell \u001b[1;32mIn[1], line 1\u001b[0m\n\u001b[1;32m----> 1\u001b[0m \u001b[38;5;28mprint\u001b[39m(\u001b[43ma\u001b[49m)\n",
      "\u001b[1;31mNameError\u001b[0m: name 'a' is not defined"
     ]
    }
   ],
   "source": [
    "print(a)"
   ]
  },
  {
   "cell_type": "code",
   "execution_count": 2,
   "id": "bf72e0a6",
   "metadata": {},
   "outputs": [
    {
     "name": "stdout",
     "output_type": "stream",
     "text": [
      "pythonis fun\n"
     ]
    }
   ],
   "source": [
    "print(\"python\"+\"is fun\")"
   ]
  },
  {
   "cell_type": "code",
   "execution_count": 4,
   "id": "1f643400",
   "metadata": {},
   "outputs": [
    {
     "ename": "SyntaxError",
     "evalue": "invalid syntax (934023588.py, line 1)",
     "output_type": "error",
     "traceback": [
      "\u001b[1;36m  Cell \u001b[1;32mIn[4], line 1\u001b[1;36m\u001b[0m\n\u001b[1;33m    arithmetic operators\u001b[0m\n\u001b[1;37m               ^\u001b[0m\n\u001b[1;31mSyntaxError\u001b[0m\u001b[1;31m:\u001b[0m invalid syntax\n"
     ]
    }
   ],
   "source": [
    "\n",
    "arithmetic operators\n",
    "Relational operators\n",
    "Logical Operators\n",
    "Membership Operators \n",
    "Bitwise operators\n"
   ]
  },
  {
   "cell_type": "markdown",
   "id": "17f0002d",
   "metadata": {},
   "source": [
    "#### ARITHMETIC OPERATORS \n",
    "1) ADDITION \n",
    "2) SUBTRACTION\n",
    "3) MULTIPLICATION\n",
    "4) DIVISION\n",
    "5) MODULUS\n",
    "6) FLOOR DIVISION\n",
    "7) EXPONENTION"
   ]
  },
  {
   "cell_type": "markdown",
   "id": "fc1c82a0",
   "metadata": {},
   "source": [
    "##### OPERATORS"
   ]
  },
  {
   "cell_type": "code",
   "execution_count": 6,
   "id": "80215d3e",
   "metadata": {},
   "outputs": [
    {
     "name": "stdout",
     "output_type": "stream",
     "text": [
      "20\n"
     ]
    },
    {
     "data": {
      "text/plain": [
       "int"
      ]
     },
     "execution_count": 6,
     "metadata": {},
     "output_type": "execute_result"
    }
   ],
   "source": [
    "X=5\n",
    "Y=15\n",
    "Z=X+Y\n",
    "print(Z)\n",
    "type(Z)"
   ]
  },
  {
   "cell_type": "code",
   "execution_count": 8,
   "id": "5be5787a",
   "metadata": {},
   "outputs": [
    {
     "name": "stdout",
     "output_type": "stream",
     "text": [
      "0.3333333333333333\n"
     ]
    },
    {
     "data": {
      "text/plain": [
       "float"
      ]
     },
     "execution_count": 8,
     "metadata": {},
     "output_type": "execute_result"
    }
   ],
   "source": [
    "x=5\n",
    "y=15\n",
    "z=x/y\n",
    "print(z)\n",
    "type(z)"
   ]
  },
  {
   "cell_type": "code",
   "execution_count": 9,
   "id": "4d5b82ad",
   "metadata": {},
   "outputs": [
    {
     "data": {
      "text/plain": [
       "4"
      ]
     },
     "execution_count": 9,
     "metadata": {},
     "output_type": "execute_result"
    }
   ],
   "source": [
    "x=4\n",
    "y=27\n",
    "z=x%y\n",
    "z"
   ]
  },
  {
   "cell_type": "code",
   "execution_count": 10,
   "id": "8e0e874d",
   "metadata": {},
   "outputs": [
    {
     "data": {
      "text/plain": [
       "1"
      ]
     },
     "execution_count": 10,
     "metadata": {},
     "output_type": "execute_result"
    }
   ],
   "source": [
    "x=29\n",
    "y=4\n",
    "z=x%y\n",
    "z"
   ]
  },
  {
   "cell_type": "markdown",
   "id": "04cec68d",
   "metadata": {},
   "source": [
    "##### Modulus-. Numberator>Denominator it returns Remainder else it returns x"
   ]
  },
  {
   "cell_type": "code",
   "execution_count": 12,
   "id": "576287b8",
   "metadata": {},
   "outputs": [
    {
     "data": {
      "text/plain": [
       "6"
      ]
     },
     "execution_count": 12,
     "metadata": {},
     "output_type": "execute_result"
    }
   ],
   "source": [
    "x=27\n",
    "y=4\n",
    "z=x//y\n",
    "z"
   ]
  },
  {
   "cell_type": "code",
   "execution_count": 15,
   "id": "fc773108",
   "metadata": {},
   "outputs": [
    {
     "data": {
      "text/plain": [
       "0"
      ]
     },
     "execution_count": 15,
     "metadata": {},
     "output_type": "execute_result"
    }
   ],
   "source": [
    "x=6\n",
    "y=27\n",
    "z=x//y\n",
    "z"
   ]
  },
  {
   "cell_type": "markdown",
   "id": "96733b3d",
   "metadata": {},
   "source": [
    "##### Fllor Division-. Numberator>Denominator it returns Quotient else it returns 0"
   ]
  },
  {
   "cell_type": "code",
   "execution_count": 19,
   "id": "c1be67cf",
   "metadata": {},
   "outputs": [
    {
     "name": "stdout",
     "output_type": "stream",
     "text": [
      "32\n"
     ]
    }
   ],
   "source": [
    "x=2\n",
    "y=5\n",
    "z=x**y\n",
    "print(z)"
   ]
  },
  {
   "cell_type": "code",
   "execution_count": 35,
   "id": "5bf45f72",
   "metadata": {},
   "outputs": [
    {
     "data": {
      "text/plain": [
       "'prema lata'"
      ]
     },
     "execution_count": 35,
     "metadata": {},
     "output_type": "execute_result"
    }
   ],
   "source": [
    "first_name=\"prema\"\n",
    "secound_name=\"lata\"\n",
    "full_name=first_name+\" \"+secound_name\n",
    "full_name"
   ]
  },
  {
   "cell_type": "code",
   "execution_count": 31,
   "id": "a3d540de",
   "metadata": {},
   "outputs": [
    {
     "name": "stdout",
     "output_type": "stream",
     "text": [
      "Hii  Hii  Hii  \n"
     ]
    },
    {
     "data": {
      "text/plain": [
       "str"
      ]
     },
     "execution_count": 31,
     "metadata": {},
     "output_type": "execute_result"
    }
   ],
   "source": [
    "value=\"Hii  \"\n",
    "count=3\n",
    "result=value*count\n",
    "print(result)\n",
    "type(result)"
   ]
  },
  {
   "cell_type": "code",
   "execution_count": 33,
   "id": "7c2c19a6",
   "metadata": {},
   "outputs": [
    {
     "data": {
      "text/plain": [
       "'Age is 25'"
      ]
     },
     "execution_count": 33,
     "metadata": {},
     "output_type": "execute_result"
    }
   ],
   "source": [
    "text=\"Age is \"\n",
    "age=\"25\"\n",
    "combine=text+age\n",
    "combine"
   ]
  },
  {
   "cell_type": "code",
   "execution_count": 34,
   "id": "90b7876b",
   "metadata": {},
   "outputs": [
    {
     "name": "stdout",
     "output_type": "stream",
     "text": [
      "-46\n"
     ]
    },
    {
     "data": {
      "text/plain": [
       "int"
      ]
     },
     "execution_count": 34,
     "metadata": {},
     "output_type": "execute_result"
    }
   ],
   "source": [
    "x=27\n",
    "y=73\n",
    "z=x-y\n",
    "print(z)\n",
    "type(z)"
   ]
  },
  {
   "cell_type": "code",
   "execution_count": 36,
   "id": "912e3d23",
   "metadata": {},
   "outputs": [
    {
     "ename": "TypeError",
     "evalue": "unsupported operand type(s) for -: 'str' and 'str'",
     "output_type": "error",
     "traceback": [
      "\u001b[1;31m---------------------------------------------------------------------------\u001b[0m",
      "\u001b[1;31mTypeError\u001b[0m                                 Traceback (most recent call last)",
      "Cell \u001b[1;32mIn[36], line 3\u001b[0m\n\u001b[0;32m      1\u001b[0m first_name\u001b[38;5;241m=\u001b[39m\u001b[38;5;124m\"\u001b[39m\u001b[38;5;124mprema\u001b[39m\u001b[38;5;124m\"\u001b[39m\n\u001b[0;32m      2\u001b[0m secound_name\u001b[38;5;241m=\u001b[39m\u001b[38;5;124m\"\u001b[39m\u001b[38;5;124mlata\u001b[39m\u001b[38;5;124m\"\u001b[39m\n\u001b[1;32m----> 3\u001b[0m full_name\u001b[38;5;241m=\u001b[39m\u001b[43mfirst_name\u001b[49m\u001b[38;5;241;43m-\u001b[39;49m\u001b[43msecound_name\u001b[49m\n\u001b[0;32m      4\u001b[0m full_name\n",
      "\u001b[1;31mTypeError\u001b[0m: unsupported operand type(s) for -: 'str' and 'str'"
     ]
    }
   ],
   "source": [
    "first_name=\"prema\"\n",
    "secound_name=\"lata\"\n",
    "full_name=first_name-secound_name\n",
    "full_name"
   ]
  },
  {
   "cell_type": "code",
   "execution_count": 37,
   "id": "a580feb3",
   "metadata": {},
   "outputs": [
    {
     "name": "stdout",
     "output_type": "stream",
     "text": [
      "50\n"
     ]
    },
    {
     "data": {
      "text/plain": [
       "int"
      ]
     },
     "execution_count": 37,
     "metadata": {},
     "output_type": "execute_result"
    }
   ],
   "source": [
    "x=5\n",
    "y=10\n",
    "z=x*y\n",
    "print(z)\n",
    "type(z)"
   ]
  },
  {
   "cell_type": "code",
   "execution_count": 38,
   "id": "aa130ccd",
   "metadata": {},
   "outputs": [
    {
     "name": "stdout",
     "output_type": "stream",
     "text": [
      "0.5\n"
     ]
    },
    {
     "data": {
      "text/plain": [
       "float"
      ]
     },
     "execution_count": 38,
     "metadata": {},
     "output_type": "execute_result"
    }
   ],
   "source": [
    "x=5\n",
    "y=10\n",
    "z=x/y\n",
    "print(z)\n",
    "type(z)"
   ]
  },
  {
   "cell_type": "code",
   "execution_count": 39,
   "id": "93094b20",
   "metadata": {},
   "outputs": [
    {
     "ename": "TypeError",
     "evalue": "unsupported operand type(s) for /: 'str' and 'int'",
     "output_type": "error",
     "traceback": [
      "\u001b[1;31m---------------------------------------------------------------------------\u001b[0m",
      "\u001b[1;31mTypeError\u001b[0m                                 Traceback (most recent call last)",
      "Cell \u001b[1;32mIn[39], line 3\u001b[0m\n\u001b[0;32m      1\u001b[0m value\u001b[38;5;241m=\u001b[39m\u001b[38;5;124m\"\u001b[39m\u001b[38;5;124mHii  \u001b[39m\u001b[38;5;124m\"\u001b[39m\n\u001b[0;32m      2\u001b[0m count\u001b[38;5;241m=\u001b[39m\u001b[38;5;241m3\u001b[39m\n\u001b[1;32m----> 3\u001b[0m result\u001b[38;5;241m=\u001b[39m\u001b[43mvalue\u001b[49m\u001b[38;5;241;43m/\u001b[39;49m\u001b[43mcount\u001b[49m\n\u001b[0;32m      4\u001b[0m \u001b[38;5;28mprint\u001b[39m(result)\n\u001b[0;32m      5\u001b[0m \u001b[38;5;28mtype\u001b[39m(result)\n",
      "\u001b[1;31mTypeError\u001b[0m: unsupported operand type(s) for /: 'str' and 'int'"
     ]
    }
   ],
   "source": [
    "value=\"Hii  \"\n",
    "count=3\n",
    "result=value/count\n",
    "print(result)\n",
    "type(result)"
   ]
  },
  {
   "cell_type": "code",
   "execution_count": 40,
   "id": "3a685479",
   "metadata": {},
   "outputs": [
    {
     "data": {
      "text/plain": [
       "3"
      ]
     },
     "execution_count": 40,
     "metadata": {},
     "output_type": "execute_result"
    }
   ],
   "source": [
    "x=27\n",
    "y=4\n",
    "z=x%y\n",
    "z"
   ]
  },
  {
   "cell_type": "code",
   "execution_count": 41,
   "id": "667268af",
   "metadata": {},
   "outputs": [
    {
     "data": {
      "text/plain": [
       "0"
      ]
     },
     "execution_count": 41,
     "metadata": {},
     "output_type": "execute_result"
    }
   ],
   "source": [
    "x=28\n",
    "y=4\n",
    "z=x%y\n",
    "z"
   ]
  },
  {
   "cell_type": "code",
   "execution_count": 42,
   "id": "36477b69",
   "metadata": {},
   "outputs": [
    {
     "data": {
      "text/plain": [
       "6"
      ]
     },
     "execution_count": 42,
     "metadata": {},
     "output_type": "execute_result"
    }
   ],
   "source": [
    "x=27\n",
    "y=4\n",
    "z=x//y\n",
    "z"
   ]
  },
  {
   "cell_type": "code",
   "execution_count": 43,
   "id": "2f2a92d6",
   "metadata": {},
   "outputs": [
    {
     "data": {
      "text/plain": [
       "0"
      ]
     },
     "execution_count": 43,
     "metadata": {},
     "output_type": "execute_result"
    }
   ],
   "source": [
    "x=6\n",
    "y=27\n",
    "z=x//y\n",
    "z"
   ]
  },
  {
   "cell_type": "code",
   "execution_count": 44,
   "id": "155bbf1b",
   "metadata": {},
   "outputs": [
    {
     "data": {
      "text/plain": [
       "0"
      ]
     },
     "execution_count": 44,
     "metadata": {},
     "output_type": "execute_result"
    }
   ],
   "source": [
    "x=6\n",
    "y=27\n",
    "z=x//y\n",
    "z"
   ]
  },
  {
   "cell_type": "markdown",
   "id": "3c66b23d",
   "metadata": {},
   "source": [
    "## Relational Operators"
   ]
  },
  {
   "cell_type": "code",
   "execution_count": 45,
   "id": "f515503c",
   "metadata": {},
   "outputs": [
    {
     "data": {
      "text/plain": [
       "False"
      ]
     },
     "execution_count": 45,
     "metadata": {},
     "output_type": "execute_result"
    }
   ],
   "source": [
    "x=25\n",
    "y=30\n",
    "x>y"
   ]
  },
  {
   "cell_type": "code",
   "execution_count": 46,
   "id": "5d0d2304",
   "metadata": {},
   "outputs": [
    {
     "data": {
      "text/plain": [
       "True"
      ]
     },
     "execution_count": 46,
     "metadata": {},
     "output_type": "execute_result"
    }
   ],
   "source": [
    "x=25\n",
    "y=30\n",
    "x<y"
   ]
  },
  {
   "cell_type": "code",
   "execution_count": 48,
   "id": "a0025b2f",
   "metadata": {},
   "outputs": [
    {
     "data": {
      "text/plain": [
       "False"
      ]
     },
     "execution_count": 48,
     "metadata": {},
     "output_type": "execute_result"
    }
   ],
   "source": [
    "x=25\n",
    "y=30\n",
    "x>=y"
   ]
  },
  {
   "cell_type": "code",
   "execution_count": 49,
   "id": "9ec9ff57",
   "metadata": {},
   "outputs": [
    {
     "data": {
      "text/plain": [
       "True"
      ]
     },
     "execution_count": 49,
     "metadata": {},
     "output_type": "execute_result"
    }
   ],
   "source": [
    "x=25\n",
    "y=30\n",
    "x!=y"
   ]
  },
  {
   "cell_type": "code",
   "execution_count": 50,
   "id": "c7187be5",
   "metadata": {},
   "outputs": [
    {
     "data": {
      "text/plain": [
       "False"
      ]
     },
     "execution_count": 50,
     "metadata": {},
     "output_type": "execute_result"
    }
   ],
   "source": [
    "x=25\n",
    "y=30\n",
    "x>=y"
   ]
  },
  {
   "cell_type": "code",
   "execution_count": 51,
   "id": "1d5eec03",
   "metadata": {},
   "outputs": [
    {
     "data": {
      "text/plain": [
       "True"
      ]
     },
     "execution_count": 51,
     "metadata": {},
     "output_type": "execute_result"
    }
   ],
   "source": [
    "x=25\n",
    "y=30\n",
    "x<=y"
   ]
  },
  {
   "cell_type": "markdown",
   "id": "e620433e",
   "metadata": {},
   "source": [
    "### Logical Operators"
   ]
  },
  {
   "cell_type": "markdown",
   "id": "8c4ecb55",
   "metadata": {},
   "source": [
    "##### and\n",
    "##### or\n",
    "##### not"
   ]
  },
  {
   "cell_type": "code",
   "execution_count": 52,
   "id": "75726d24",
   "metadata": {},
   "outputs": [],
   "source": [
    "is_student=True\n",
    "in_collage=True\n",
    "in_school=False"
   ]
  },
  {
   "cell_type": "code",
   "execution_count": 53,
   "id": "2078238d",
   "metadata": {},
   "outputs": [
    {
     "data": {
      "text/plain": [
       "True"
      ]
     },
     "execution_count": 53,
     "metadata": {},
     "output_type": "execute_result"
    }
   ],
   "source": [
    "is_student and in_collage"
   ]
  },
  {
   "cell_type": "code",
   "execution_count": 54,
   "id": "c3e9a599",
   "metadata": {},
   "outputs": [
    {
     "data": {
      "text/plain": [
       "False"
      ]
     },
     "execution_count": 54,
     "metadata": {},
     "output_type": "execute_result"
    }
   ],
   "source": [
    "is_student and in_school"
   ]
  },
  {
   "cell_type": "code",
   "execution_count": 56,
   "id": "1e98f2f6",
   "metadata": {},
   "outputs": [
    {
     "data": {
      "text/plain": [
       "True"
      ]
     },
     "execution_count": 56,
     "metadata": {},
     "output_type": "execute_result"
    }
   ],
   "source": [
    "is_student or in_collage"
   ]
  },
  {
   "cell_type": "code",
   "execution_count": 57,
   "id": "9c479773",
   "metadata": {},
   "outputs": [
    {
     "data": {
      "text/plain": [
       "True"
      ]
     },
     "execution_count": 57,
     "metadata": {},
     "output_type": "execute_result"
    }
   ],
   "source": [
    "is_student or in_school"
   ]
  },
  {
   "cell_type": "code",
   "execution_count": 58,
   "id": "3e0d85e7",
   "metadata": {},
   "outputs": [
    {
     "data": {
      "text/plain": [
       "False"
      ]
     },
     "execution_count": 58,
     "metadata": {},
     "output_type": "execute_result"
    }
   ],
   "source": [
    "in_school or in_school"
   ]
  },
  {
   "cell_type": "code",
   "execution_count": 59,
   "id": "f0b02e89",
   "metadata": {},
   "outputs": [
    {
     "data": {
      "text/plain": [
       "True"
      ]
     },
     "execution_count": 59,
     "metadata": {},
     "output_type": "execute_result"
    }
   ],
   "source": [
    "not(in_school)"
   ]
  },
  {
   "cell_type": "code",
   "execution_count": 60,
   "id": "5c0eae14",
   "metadata": {},
   "outputs": [
    {
     "data": {
      "text/plain": [
       "False"
      ]
     },
     "execution_count": 60,
     "metadata": {},
     "output_type": "execute_result"
    }
   ],
   "source": [
    "not(in_collage)"
   ]
  },
  {
   "cell_type": "markdown",
   "id": "48f6af40",
   "metadata": {},
   "source": [
    "##### Membership Operators"
   ]
  },
  {
   "cell_type": "code",
   "execution_count": 65,
   "id": "4ea71678",
   "metadata": {},
   "outputs": [
    {
     "name": "stdout",
     "output_type": "stream",
     "text": [
      "True\n"
     ]
    }
   ],
   "source": [
    "vowels=\"aeiou\"\n",
    "print(\"u\" in vowels)"
   ]
  },
  {
   "cell_type": "code",
   "execution_count": 66,
   "id": "2234120b",
   "metadata": {},
   "outputs": [
    {
     "name": "stdout",
     "output_type": "stream",
     "text": [
      "False\n"
     ]
    }
   ],
   "source": [
    "print(\"u\" not in vowels)"
   ]
  },
  {
   "cell_type": "code",
   "execution_count": null,
   "id": "d8b4189d",
   "metadata": {},
   "outputs": [],
   "source": []
  },
  {
   "cell_type": "code",
   "execution_count": 67,
   "id": "3b32a235",
   "metadata": {},
   "outputs": [],
   "source": [
    "##### Assignment Operators"
   ]
  },
  {
   "cell_type": "code",
   "execution_count": 68,
   "id": "ede54704",
   "metadata": {},
   "outputs": [
    {
     "data": {
      "text/plain": [
       "8"
      ]
     },
     "execution_count": 68,
     "metadata": {},
     "output_type": "execute_result"
    }
   ],
   "source": [
    "a=5\n",
    "b=3\n",
    "a=a+b\n",
    "a"
   ]
  },
  {
   "cell_type": "code",
   "execution_count": 69,
   "id": "9b329849",
   "metadata": {},
   "outputs": [
    {
     "data": {
      "text/plain": [
       "8"
      ]
     },
     "execution_count": 69,
     "metadata": {},
     "output_type": "execute_result"
    }
   ],
   "source": [
    "a=5\n",
    "b=3\n",
    "a+=b\n",
    "a"
   ]
  },
  {
   "cell_type": "markdown",
   "id": "b10196b1",
   "metadata": {},
   "source": [
    "###### a+=b-> a=a+b"
   ]
  },
  {
   "cell_type": "code",
   "execution_count": 71,
   "id": "c9015f95",
   "metadata": {},
   "outputs": [
    {
     "data": {
      "text/plain": [
       "2"
      ]
     },
     "execution_count": 71,
     "metadata": {},
     "output_type": "execute_result"
    }
   ],
   "source": [
    "a=5\n",
    "b=3\n",
    "a-=b\n",
    "a"
   ]
  },
  {
   "cell_type": "code",
   "execution_count": 72,
   "id": "f2436afb",
   "metadata": {},
   "outputs": [
    {
     "data": {
      "text/plain": [
       "15"
      ]
     },
     "execution_count": 72,
     "metadata": {},
     "output_type": "execute_result"
    }
   ],
   "source": [
    "a=5\n",
    "b=3\n",
    "a*=b\n",
    "a"
   ]
  },
  {
   "cell_type": "code",
   "execution_count": 74,
   "id": "21212750",
   "metadata": {},
   "outputs": [
    {
     "data": {
      "text/plain": [
       "1.6666666666666667"
      ]
     },
     "execution_count": 74,
     "metadata": {},
     "output_type": "execute_result"
    }
   ],
   "source": [
    "a=5\n",
    "b=3\n",
    "a/=b\n",
    "a"
   ]
  },
  {
   "cell_type": "code",
   "execution_count": 75,
   "id": "865022d5",
   "metadata": {},
   "outputs": [
    {
     "data": {
      "text/plain": [
       "125"
      ]
     },
     "execution_count": 75,
     "metadata": {},
     "output_type": "execute_result"
    }
   ],
   "source": [
    "a=5\n",
    "b=3\n",
    "a**=b\n",
    "a"
   ]
  },
  {
   "cell_type": "code",
   "execution_count": 76,
   "id": "6039f8ac",
   "metadata": {},
   "outputs": [
    {
     "data": {
      "text/plain": [
       "1"
      ]
     },
     "execution_count": 76,
     "metadata": {},
     "output_type": "execute_result"
    }
   ],
   "source": [
    "a=5\n",
    "b=3\n",
    "a//=b\n",
    "a"
   ]
  },
  {
   "cell_type": "markdown",
   "id": "6f1fba25",
   "metadata": {},
   "source": [
    "##### Conditional statements"
   ]
  },
  {
   "cell_type": "code",
   "execution_count": 78,
   "id": "29de9103",
   "metadata": {},
   "outputs": [
    {
     "name": "stdout",
     "output_type": "stream",
     "text": [
      "5 is greater than zero\n"
     ]
    }
   ],
   "source": [
    "num=5\n",
    "if(num>0):\n",
    "    print(num,\"is greater than zero\")"
   ]
  },
  {
   "cell_type": "code",
   "execution_count": 79,
   "id": "123c696d",
   "metadata": {},
   "outputs": [
    {
     "name": "stdout",
     "output_type": "stream",
     "text": [
      "5 is greater than zero\n"
     ]
    }
   ],
   "source": [
    "num=5\n",
    "if(num>0):\n",
    "    print(num,\"is greater than zero\")\n",
    "else:\n",
    "    print(num,\"is lesser than zero\")"
   ]
  },
  {
   "cell_type": "code",
   "execution_count": 6,
   "id": "3c1bf2e8",
   "metadata": {},
   "outputs": [
    {
     "name": "stdout",
     "output_type": "stream",
     "text": [
      "Enter age: 38\n",
      "Bus fare is 40\n"
     ]
    }
   ],
   "source": [
    "age=int(input(\"Enter age: \"))\n",
    "if(0<age<3):\n",
    "    print(\"No fares for age group 0-3\")\n",
    "elif(3<age<10):\n",
    "    print(\"Bus fare is 10\")\n",
    "elif(10<age<20):\n",
    "    print(\"Bus fare is 20\")\n",
    "elif(20<age<30):\n",
    "    print(\"Bus fare is 30\")\n",
    "elif(30<age<60):\n",
    "    print(\"Bus fare is 40\")\n",
    "if(60<age<100):\n",
    "    print(\"No fare for age group 60-100\")"
   ]
  },
  {
   "cell_type": "code",
   "execution_count": 105,
   "id": "f4f8bbe9",
   "metadata": {},
   "outputs": [
    {
     "name": "stdout",
     "output_type": "stream",
     "text": [
      "enter your rank: 67\n",
      "third rank in Navy for 65-75 \n"
     ]
    }
   ],
   "source": [
    "mark=int(input(\"enter your rank: \"))\n",
    "if(30<mark<55):\n",
    "    print(\"fifth rank in Navy between 30-55\")\n",
    "elif(55<mark<65):\n",
    "    print(\"fourth rank in Navy for 55-65\")\n",
    "elif(65<mark<75):\n",
    "    print(\"third rank in Navy for 65-75 \")\n",
    "elif(75<mark<85):\n",
    "    print(\"secount rank in Navy for 75-85\")\n",
    "elif(85<mark<100):\n",
    "    print(\"first rank in Navy for 85-100\")\n",
    "else:\n",
    "    print(\"You Will Best Next Time\") "
   ]
  },
  {
   "cell_type": "code",
   "execution_count": null,
   "id": "35b71de1",
   "metadata": {},
   "outputs": [],
   "source": []
  },
  {
   "cell_type": "markdown",
   "id": "1973d8f7",
   "metadata": {},
   "source": [
    "### DAY THREE"
   ]
  },
  {
   "cell_type": "code",
   "execution_count": null,
   "id": "be8a718f",
   "metadata": {},
   "outputs": [],
   "source": []
  },
  {
   "cell_type": "code",
   "execution_count": 18,
   "id": "65ad935d",
   "metadata": {},
   "outputs": [
    {
     "ename": "IndentationError",
     "evalue": "unexpected indent (4234008265.py, line 7)",
     "output_type": "error",
     "traceback": [
      "\u001b[1;36m  Cell \u001b[1;32mIn[18], line 7\u001b[1;36m\u001b[0m\n\u001b[1;33m    print(n3,\"is greater\")\u001b[0m\n\u001b[1;37m    ^\u001b[0m\n\u001b[1;31mIndentationError\u001b[0m\u001b[1;31m:\u001b[0m unexpected indent\n"
     ]
    }
   ],
   "source": [
    "n1=10\n",
    "n2=34\n",
    "n3=5\n",
    "if(n1>n2):\n",
    "    print(n1,\"Is greater\")\n",
    "else:(n3>n2)\n",
    "    print(n3,\"is greater\")\n",
    "else:\n",
    "    print(n2,\"is greater\")"
   ]
  },
  {
   "cell_type": "code",
   "execution_count": 72,
   "id": "866f23a3",
   "metadata": {},
   "outputs": [
    {
     "ename": "IndentationError",
     "evalue": "unexpected indent (1621736879.py, line 4)",
     "output_type": "error",
     "traceback": [
      "\u001b[1;36m  Cell \u001b[1;32mIn[72], line 4\u001b[1;36m\u001b[0m\n\u001b[1;33m    if (n1>n3):\u001b[0m\n\u001b[1;37m    ^\u001b[0m\n\u001b[1;31mIndentationError\u001b[0m\u001b[1;31m:\u001b[0m unexpected indent\n"
     ]
    }
   ],
   "source": [
    "n1=10\n",
    "n2=34\n",
    "n3=5\n",
    "    if (n1>n3):\n",
    "        print(n1,\"Is greater\")\n",
    "    else:\n",
    "        if(n2>n3):\n",
    "            print(n3,\"is greater\")\n",
    "    else:\n",
    "        print(n2,\"is greater\")"
   ]
  },
  {
   "cell_type": "code",
   "execution_count": 7,
   "id": "ee4d6b12",
   "metadata": {},
   "outputs": [
    {
     "ename": "SyntaxError",
     "evalue": "invalid syntax (381382241.py, line 9)",
     "output_type": "error",
     "traceback": [
      "\u001b[1;36m  Cell \u001b[1;32mIn[7], line 9\u001b[1;36m\u001b[0m\n\u001b[1;33m    else:\u001b[0m\n\u001b[1;37m    ^\u001b[0m\n\u001b[1;31mSyntaxError\u001b[0m\u001b[1;31m:\u001b[0m invalid syntax\n"
     ]
    }
   ],
   "source": [
    "num1 = 12383\n",
    "num2 = 33636\n",
    "num3 = 2398474\n",
    "\n",
    "if num1>num2>num3:\n",
    "    print(num1, \"is greater\")\n",
    "else:\n",
    "    print(num3, \"is greater\")\n",
    "else:\n",
    "    if num2 > num3:\n",
    "        print(num2, \"is greater\")\n",
    "    else:\n",
    "        print(num3, \"is greater\")"
   ]
  },
  {
   "cell_type": "code",
   "execution_count": 10,
   "id": "9bc4b3e2",
   "metadata": {},
   "outputs": [
    {
     "ename": "IndentationError",
     "evalue": "unexpected indent (3873683089.py, line 5)",
     "output_type": "error",
     "traceback": [
      "\u001b[1;36m  Cell \u001b[1;32mIn[10], line 5\u001b[1;36m\u001b[0m\n\u001b[1;33m    if num1 > num2:\u001b[0m\n\u001b[1;37m    ^\u001b[0m\n\u001b[1;31mIndentationError\u001b[0m\u001b[1;31m:\u001b[0m unexpected indent\n"
     ]
    }
   ],
   "source": [
    "num1 = 10\n",
    "num2 = 3383\n",
    "num3 = 2\n",
    "\n",
    "        if num1 > num2:\n",
    "            if num1 > num3:\n",
    "                print(num1, \"is greater\")\n",
    "            else:\n",
    "                print(num3, \"is greater\")\n",
    "        else:\n",
    "            if num2 > num3:\n",
    "                print(num2, \"is greater\")\n",
    "            else:\n",
    "                print(num3, \"is greater\")"
   ]
  },
  {
   "cell_type": "code",
   "execution_count": 53,
   "id": "afd8bdb6",
   "metadata": {},
   "outputs": [
    {
     "name": "stdout",
     "output_type": "stream",
     "text": [
      "enter your E Mail IDHiteshsonar13@gmail.com\n",
      "please enter your passwordData@88554\n",
      "Password Accepted. Log in\n"
     ]
    }
   ],
   "source": [
    "user_id=input(\"enter your E Mail ID\")\n",
    "Pass=input(\"please enter your password\")\n",
    "if(user_id==\"Hiteshsonar13@gmail.com\"):\n",
    "    if(Pass==\"Data@88554\"):\n",
    "        print(\"Password Accepted. Log in\")\n",
    "else:\n",
    "    print(\"wrong password.please enter correct password\")"
   ]
  },
  {
   "cell_type": "code",
   "execution_count": null,
   "id": "e442c3f0",
   "metadata": {},
   "outputs": [],
   "source": []
  },
  {
   "cell_type": "markdown",
   "id": "a2936acd",
   "metadata": {},
   "source": [
    "# 04/06/2023"
   ]
  },
  {
   "cell_type": "markdown",
   "id": "f8a16ff2",
   "metadata": {},
   "source": [
    "### STRINGS"
   ]
  },
  {
   "cell_type": "code",
   "execution_count": null,
   "id": "8267ffbc",
   "metadata": {},
   "outputs": [],
   "source": []
  },
  {
   "cell_type": "code",
   "execution_count": 55,
   "id": "0e6356ca",
   "metadata": {},
   "outputs": [
    {
     "name": "stdout",
     "output_type": "stream",
     "text": [
      "hitesh\n"
     ]
    },
    {
     "data": {
      "text/plain": [
       "str"
      ]
     },
     "execution_count": 55,
     "metadata": {},
     "output_type": "execute_result"
    }
   ],
   "source": [
    "name=\"hitesh\"\n",
    "print(name)\n",
    "type(name)"
   ]
  },
  {
   "cell_type": "code",
   "execution_count": 61,
   "id": "b24e5176",
   "metadata": {},
   "outputs": [],
   "source": [
    "text=\"I Love Python\""
   ]
  },
  {
   "cell_type": "code",
   "execution_count": 62,
   "id": "9c3e6be2",
   "metadata": {},
   "outputs": [
    {
     "data": {
      "text/plain": [
       "'h'"
      ]
     },
     "execution_count": 62,
     "metadata": {},
     "output_type": "execute_result"
    }
   ],
   "source": [
    "text[-3]"
   ]
  },
  {
   "cell_type": "code",
   "execution_count": 63,
   "id": "e2c7c215",
   "metadata": {},
   "outputs": [
    {
     "data": {
      "text/plain": [
       "'I Love Python'"
      ]
     },
     "execution_count": 63,
     "metadata": {},
     "output_type": "execute_result"
    }
   ],
   "source": [
    "text[:]"
   ]
  },
  {
   "cell_type": "code",
   "execution_count": 64,
   "id": "a4e6204f",
   "metadata": {},
   "outputs": [
    {
     "data": {
      "text/plain": [
       "'Love Python'"
      ]
     },
     "execution_count": 64,
     "metadata": {},
     "output_type": "execute_result"
    }
   ],
   "source": [
    "text[2:]"
   ]
  },
  {
   "cell_type": "code",
   "execution_count": 66,
   "id": "865b51d6",
   "metadata": {},
   "outputs": [
    {
     "data": {
      "text/plain": [
       "'nohtyP evoL I'"
      ]
     },
     "execution_count": 66,
     "metadata": {},
     "output_type": "execute_result"
    }
   ],
   "source": [
    "text[::-1]"
   ]
  },
  {
   "cell_type": "code",
   "execution_count": 13,
   "id": "ffa57a0a",
   "metadata": {},
   "outputs": [],
   "source": [
    "### Love Python\n",
    "### L\n",
    "### nohtyp"
   ]
  },
  {
   "cell_type": "code",
   "execution_count": 78,
   "id": "82e91301",
   "metadata": {},
   "outputs": [
    {
     "data": {
      "text/plain": [
       "'Love Python'"
      ]
     },
     "execution_count": 78,
     "metadata": {},
     "output_type": "execute_result"
    }
   ],
   "source": [
    "text[2:]"
   ]
  },
  {
   "cell_type": "code",
   "execution_count": 79,
   "id": "e28ecc39",
   "metadata": {},
   "outputs": [
    {
     "data": {
      "text/plain": [
       "'L'"
      ]
     },
     "execution_count": 79,
     "metadata": {},
     "output_type": "execute_result"
    }
   ],
   "source": [
    "text[2]"
   ]
  },
  {
   "cell_type": "code",
   "execution_count": 84,
   "id": "87323c08",
   "metadata": {},
   "outputs": [
    {
     "data": {
      "text/plain": [
       "'nohtyP'"
      ]
     },
     "execution_count": 84,
     "metadata": {},
     "output_type": "execute_result"
    }
   ],
   "source": [
    "text[:-7:-1]"
   ]
  },
  {
   "cell_type": "code",
   "execution_count": 89,
   "id": "8f7244f6",
   "metadata": {},
   "outputs": [
    {
     "data": {
      "text/plain": [
       "'nhy v'"
      ]
     },
     "execution_count": 89,
     "metadata": {},
     "output_type": "execute_result"
    }
   ],
   "source": [
    "text[:-10:-2]"
   ]
  },
  {
   "cell_type": "code",
   "execution_count": 91,
   "id": "d55fa0f1",
   "metadata": {},
   "outputs": [
    {
     "data": {
      "text/plain": [
       "'I Love data science'"
      ]
     },
     "execution_count": 91,
     "metadata": {},
     "output_type": "execute_result"
    }
   ],
   "source": [
    "text.replace(\"Python\",\"data science\")"
   ]
  },
  {
   "cell_type": "code",
   "execution_count": 92,
   "id": "1d0c1494",
   "metadata": {},
   "outputs": [
    {
     "data": {
      "text/plain": [
       "'04/06/2023'"
      ]
     },
     "execution_count": 92,
     "metadata": {},
     "output_type": "execute_result"
    }
   ],
   "source": [
    "date=\"04\",\"06\",\"2023\"\n",
    "sep='/'\n",
    "sep.join(date)"
   ]
  },
  {
   "cell_type": "code",
   "execution_count": 102,
   "id": "8a99bc1b",
   "metadata": {},
   "outputs": [],
   "source": [
    "text=\"****Python*for*data*science******\""
   ]
  },
  {
   "cell_type": "code",
   "execution_count": 101,
   "id": "7bd927a0",
   "metadata": {},
   "outputs": [
    {
     "data": {
      "text/plain": [
       "'Python*for*data*******science'"
      ]
     },
     "execution_count": 101,
     "metadata": {},
     "output_type": "execute_result"
    }
   ],
   "source": [
    "text.strip(\"*\")"
   ]
  },
  {
   "cell_type": "code",
   "execution_count": 95,
   "id": "acb91675",
   "metadata": {},
   "outputs": [],
   "source": [
    "text=\"****Python*for*data*science\""
   ]
  },
  {
   "cell_type": "code",
   "execution_count": null,
   "id": "791e29ed",
   "metadata": {},
   "outputs": [],
   "source": []
  },
  {
   "cell_type": "markdown",
   "id": "345f9363",
   "metadata": {},
   "source": [
    "###  List "
   ]
  },
  {
   "cell_type": "code",
   "execution_count": 105,
   "id": "54cdec80",
   "metadata": {},
   "outputs": [
    {
     "data": {
      "text/plain": [
       "[1, 2, 2, 3, 4, 5, 6, 7, 'Count']"
      ]
     },
     "execution_count": 105,
     "metadata": {},
     "output_type": "execute_result"
    }
   ],
   "source": [
    "Items_List=[1,2,2,3,4,5,6,7,\"Count\"]\n",
    "Items_List"
   ]
  },
  {
   "cell_type": "code",
   "execution_count": 106,
   "id": "8cd8414b",
   "metadata": {},
   "outputs": [
    {
     "data": {
      "text/plain": [
       "list"
      ]
     },
     "execution_count": 106,
     "metadata": {},
     "output_type": "execute_result"
    }
   ],
   "source": [
    "type(Items_List)"
   ]
  },
  {
   "cell_type": "markdown",
   "id": "8dff06ba",
   "metadata": {},
   "source": [
    "#### Elements in a list seperated by comma and enclosed in square brakets"
   ]
  },
  {
   "cell_type": "markdown",
   "id": "9c668adb",
   "metadata": {},
   "source": [
    "#### List is Hetrogenous->Multiple data types"
   ]
  },
  {
   "cell_type": "markdown",
   "id": "cf81a38e",
   "metadata": {},
   "source": [
    "#### List can have duplicates"
   ]
  },
  {
   "cell_type": "code",
   "execution_count": 15,
   "id": "fa94a9f6",
   "metadata": {},
   "outputs": [
    {
     "data": {
      "text/plain": [
       "list"
      ]
     },
     "execution_count": 15,
     "metadata": {},
     "output_type": "execute_result"
    }
   ],
   "source": [
    "book_list=[\"python\",\"RSJFJ\"]\n",
    "book_list\n",
    "type(book_list)"
   ]
  },
  {
   "cell_type": "code",
   "execution_count": 115,
   "id": "81e1e1ba",
   "metadata": {},
   "outputs": [],
   "source": [
    "novels=[\"lord\",\"power\",\"states\",\"aeiou\"]"
   ]
  },
  {
   "cell_type": "code",
   "execution_count": 116,
   "id": "f66f3a82",
   "metadata": {},
   "outputs": [],
   "source": [
    "libeary=book_list+novels"
   ]
  },
  {
   "cell_type": "code",
   "execution_count": 117,
   "id": "23b9d296",
   "metadata": {},
   "outputs": [
    {
     "data": {
      "text/plain": [
       "['python', 'RSJFJ', 'lord', 'power', 'states', 'aeiou']"
      ]
     },
     "execution_count": 117,
     "metadata": {},
     "output_type": "execute_result"
    }
   ],
   "source": [
    "libeary"
   ]
  },
  {
   "cell_type": "code",
   "execution_count": 118,
   "id": "9fabaae4",
   "metadata": {},
   "outputs": [],
   "source": [
    "novels.append(\"air\")"
   ]
  },
  {
   "cell_type": "code",
   "execution_count": 119,
   "id": "1dc50299",
   "metadata": {},
   "outputs": [
    {
     "data": {
      "text/plain": [
       "['lord', 'power', 'states', 'aeiou', 'air']"
      ]
     },
     "execution_count": 119,
     "metadata": {},
     "output_type": "execute_result"
    }
   ],
   "source": [
    "novels"
   ]
  },
  {
   "cell_type": "code",
   "execution_count": 121,
   "id": "148f9a78",
   "metadata": {},
   "outputs": [],
   "source": [
    "novels.insert(1,\"suns\")"
   ]
  },
  {
   "cell_type": "code",
   "execution_count": 122,
   "id": "efcc6f4c",
   "metadata": {},
   "outputs": [
    {
     "data": {
      "text/plain": [
       "['lord', 'suns', 'power', 'states', 'aeiou', 'air']"
      ]
     },
     "execution_count": 122,
     "metadata": {},
     "output_type": "execute_result"
    }
   ],
   "source": [
    "novels"
   ]
  },
  {
   "cell_type": "code",
   "execution_count": 124,
   "id": "e64c3ecd",
   "metadata": {},
   "outputs": [],
   "source": [
    "average_price=[43,332,8737,373665,876,876,86,7]\n",
    "average_price.sort()"
   ]
  },
  {
   "cell_type": "code",
   "execution_count": 125,
   "id": "3e01b64b",
   "metadata": {},
   "outputs": [
    {
     "data": {
      "text/plain": [
       "[7, 43, 86, 332, 876, 876, 8737, 373665]"
      ]
     },
     "execution_count": 125,
     "metadata": {},
     "output_type": "execute_result"
    }
   ],
   "source": [
    "average_price"
   ]
  },
  {
   "cell_type": "code",
   "execution_count": 128,
   "id": "93387304",
   "metadata": {},
   "outputs": [
    {
     "data": {
      "text/plain": [
       "[7, 43, 86, 332, 876, 876, 8737, 373665]"
      ]
     },
     "execution_count": 128,
     "metadata": {},
     "output_type": "execute_result"
    }
   ],
   "source": [
    "average_price_sorted=sorted(average_price)\n",
    "average_price_sorted"
   ]
  },
  {
   "cell_type": "code",
   "execution_count": 129,
   "id": "edb9148c",
   "metadata": {},
   "outputs": [],
   "source": [
    "prod=[\"mango\",\"orange\",\"chili\"]"
   ]
  },
  {
   "cell_type": "code",
   "execution_count": 130,
   "id": "b13aa8da",
   "metadata": {},
   "outputs": [],
   "source": [
    "prod.sort()"
   ]
  },
  {
   "cell_type": "code",
   "execution_count": 131,
   "id": "b3a54429",
   "metadata": {},
   "outputs": [
    {
     "data": {
      "text/plain": [
       "['chili', 'mango', 'orange']"
      ]
     },
     "execution_count": 131,
     "metadata": {},
     "output_type": "execute_result"
    }
   ],
   "source": [
    "prod"
   ]
  },
  {
   "cell_type": "code",
   "execution_count": 132,
   "id": "dedb5b27",
   "metadata": {},
   "outputs": [],
   "source": [
    "prod.sort(reverse=True)"
   ]
  },
  {
   "cell_type": "code",
   "execution_count": 133,
   "id": "64e5d52e",
   "metadata": {},
   "outputs": [
    {
     "data": {
      "text/plain": [
       "['orange', 'mango', 'chili']"
      ]
     },
     "execution_count": 133,
     "metadata": {},
     "output_type": "execute_result"
    }
   ],
   "source": [
    "prod"
   ]
  },
  {
   "cell_type": "code",
   "execution_count": 134,
   "id": "8076d9f3",
   "metadata": {},
   "outputs": [],
   "source": [
    "avg_price=[21,22,33.33,36.33]\n",
    "avg_price.sort()"
   ]
  },
  {
   "cell_type": "code",
   "execution_count": 135,
   "id": "ae119821",
   "metadata": {},
   "outputs": [
    {
     "data": {
      "text/plain": [
       "[21, 22, 33.33, 36.33]"
      ]
     },
     "execution_count": 135,
     "metadata": {},
     "output_type": "execute_result"
    }
   ],
   "source": [
    "avg_price"
   ]
  },
  {
   "cell_type": "code",
   "execution_count": null,
   "id": "6067b730",
   "metadata": {},
   "outputs": [],
   "source": []
  },
  {
   "cell_type": "code",
   "execution_count": 158,
   "id": "4cb909dc",
   "metadata": {},
   "outputs": [],
   "source": [
    "products=[\"Dairy\",\" Bekery\",\"Grocery\",\"Clothing\"]"
   ]
  },
  {
   "cell_type": "code",
   "execution_count": 141,
   "id": "84be0cab",
   "metadata": {},
   "outputs": [],
   "source": [
    "print=(\"Bekery\" not in products )"
   ]
  },
  {
   "cell_type": "code",
   "execution_count": 150,
   "id": "70e6b436",
   "metadata": {},
   "outputs": [
    {
     "data": {
      "text/plain": [
       "16"
      ]
     },
     "execution_count": 150,
     "metadata": {},
     "output_type": "execute_result"
    }
   ],
   "source": [
    "price=[1,1,1,1,22,2,2,2,2,2,2,3,4,5,7,-2]\n",
    "len(price)"
   ]
  },
  {
   "cell_type": "code",
   "execution_count": 143,
   "id": "fc5ec0a4",
   "metadata": {},
   "outputs": [
    {
     "data": {
      "text/plain": [
       "7"
      ]
     },
     "execution_count": 143,
     "metadata": {},
     "output_type": "execute_result"
    }
   ],
   "source": [
    "max(price)"
   ]
  },
  {
   "cell_type": "code",
   "execution_count": 148,
   "id": "0c53f9a5",
   "metadata": {},
   "outputs": [
    {
     "data": {
      "text/plain": [
       "-2"
      ]
     },
     "execution_count": 148,
     "metadata": {},
     "output_type": "execute_result"
    }
   ],
   "source": [
    "min(price)"
   ]
  },
  {
   "cell_type": "code",
   "execution_count": 151,
   "id": "93a9fa48",
   "metadata": {},
   "outputs": [
    {
     "data": {
      "text/plain": [
       "4"
      ]
     },
     "execution_count": 151,
     "metadata": {},
     "output_type": "execute_result"
    }
   ],
   "source": [
    "price.count(1)"
   ]
  },
  {
   "cell_type": "code",
   "execution_count": 152,
   "id": "f03f545b",
   "metadata": {},
   "outputs": [],
   "source": [
    "items=[\"Hii\",\"hello\"]"
   ]
  },
  {
   "cell_type": "code",
   "execution_count": 154,
   "id": "78b93c60",
   "metadata": {},
   "outputs": [],
   "source": [
    "items.insert(2,\"das\")"
   ]
  },
  {
   "cell_type": "code",
   "execution_count": 155,
   "id": "24467cec",
   "metadata": {},
   "outputs": [
    {
     "data": {
      "text/plain": [
       "['Hii', 'hello', 'das']"
      ]
     },
     "execution_count": 155,
     "metadata": {},
     "output_type": "execute_result"
    }
   ],
   "source": [
    "items"
   ]
  },
  {
   "cell_type": "code",
   "execution_count": 159,
   "id": "dbea980b",
   "metadata": {},
   "outputs": [],
   "source": [
    "price.extend(items)"
   ]
  },
  {
   "cell_type": "code",
   "execution_count": 160,
   "id": "bcf075da",
   "metadata": {},
   "outputs": [
    {
     "data": {
      "text/plain": [
       "[1, 1, 1, 1, 22, 2, 2, 2, 2, 2, 2, 3, 4, 5, 7, -2, 'Hii', 'hello', 'das']"
      ]
     },
     "execution_count": 160,
     "metadata": {},
     "output_type": "execute_result"
    }
   ],
   "source": [
    "price"
   ]
  },
  {
   "cell_type": "code",
   "execution_count": 165,
   "id": "f77338e0",
   "metadata": {},
   "outputs": [],
   "source": [
    "price.remove(\"hello\")"
   ]
  },
  {
   "cell_type": "code",
   "execution_count": 166,
   "id": "24857762",
   "metadata": {},
   "outputs": [
    {
     "data": {
      "text/plain": [
       "[1, 1, 1, 1, 22, 2, 2, 2, 2, 2, 2, 3, 4, 5, 7, -2, 'Hii', 'das']"
      ]
     },
     "execution_count": 166,
     "metadata": {},
     "output_type": "execute_result"
    }
   ],
   "source": [
    "price"
   ]
  },
  {
   "cell_type": "code",
   "execution_count": 167,
   "id": "eab9262d",
   "metadata": {},
   "outputs": [],
   "source": [
    "price.remove(\"das\")"
   ]
  },
  {
   "cell_type": "code",
   "execution_count": 168,
   "id": "b0642b78",
   "metadata": {},
   "outputs": [
    {
     "data": {
      "text/plain": [
       "[1, 1, 1, 1, 22, 2, 2, 2, 2, 2, 2, 3, 4, 5, 7, -2, 'Hii']"
      ]
     },
     "execution_count": 168,
     "metadata": {},
     "output_type": "execute_result"
    }
   ],
   "source": [
    "price"
   ]
  },
  {
   "cell_type": "code",
   "execution_count": 169,
   "id": "fea3e348",
   "metadata": {},
   "outputs": [],
   "source": [
    "price.reverse()"
   ]
  },
  {
   "cell_type": "code",
   "execution_count": 170,
   "id": "85f9e137",
   "metadata": {},
   "outputs": [
    {
     "data": {
      "text/plain": [
       "['Hii', -2, 7, 5, 4, 3, 2, 2, 2, 2, 2, 2, 22, 1, 1, 1, 1]"
      ]
     },
     "execution_count": 170,
     "metadata": {},
     "output_type": "execute_result"
    }
   ],
   "source": [
    "price"
   ]
  },
  {
   "cell_type": "code",
   "execution_count": 171,
   "id": "fbed435c",
   "metadata": {},
   "outputs": [
    {
     "data": {
      "text/plain": [
       "['Hii', -2, 7]"
      ]
     },
     "execution_count": 171,
     "metadata": {},
     "output_type": "execute_result"
    }
   ],
   "source": [
    "price[0:3]"
   ]
  },
  {
   "cell_type": "code",
   "execution_count": 172,
   "id": "7191015a",
   "metadata": {},
   "outputs": [
    {
     "data": {
      "text/plain": [
       "[5, 4, 3, 2]"
      ]
     },
     "execution_count": 172,
     "metadata": {},
     "output_type": "execute_result"
    }
   ],
   "source": [
    "price[3:7]"
   ]
  },
  {
   "cell_type": "code",
   "execution_count": 175,
   "id": "ebe5d726",
   "metadata": {},
   "outputs": [
    {
     "data": {
      "text/plain": [
       "2"
      ]
     },
     "execution_count": 175,
     "metadata": {},
     "output_type": "execute_result"
    }
   ],
   "source": [
    "price[-7]"
   ]
  },
  {
   "cell_type": "code",
   "execution_count": 176,
   "id": "1b603385",
   "metadata": {},
   "outputs": [
    {
     "data": {
      "text/plain": [
       "['Hii', -2, 7, 5, 4, 3, 2, 2, 2, 2, 2]"
      ]
     },
     "execution_count": 176,
     "metadata": {},
     "output_type": "execute_result"
    }
   ],
   "source": [
    "price[0:-6]"
   ]
  },
  {
   "cell_type": "markdown",
   "id": "a5a5b625",
   "metadata": {},
   "source": [
    "#### Everyone should come with property of list that is not discussed"
   ]
  },
  {
   "cell_type": "code",
   "execution_count": 177,
   "id": "eadad9d4",
   "metadata": {},
   "outputs": [],
   "source": [
    "price[0]=\"ds\""
   ]
  },
  {
   "cell_type": "code",
   "execution_count": 178,
   "id": "5b116842",
   "metadata": {},
   "outputs": [
    {
     "data": {
      "text/plain": [
       "['ds', -2, 7, 5, 4, 3, 2, 2, 2, 2, 2, 2, 22, 1, 1, 1, 1]"
      ]
     },
     "execution_count": 178,
     "metadata": {},
     "output_type": "execute_result"
    }
   ],
   "source": [
    "price"
   ]
  },
  {
   "cell_type": "code",
   "execution_count": 3,
   "id": "3959dda8",
   "metadata": {},
   "outputs": [],
   "source": [
    "hite=[87776,37,36,35353,73635,876544,72]"
   ]
  },
  {
   "cell_type": "code",
   "execution_count": 13,
   "id": "f4324885",
   "metadata": {},
   "outputs": [],
   "source": [
    "hite[3]=\"hitesh\""
   ]
  },
  {
   "cell_type": "code",
   "execution_count": 14,
   "id": "e93911df",
   "metadata": {},
   "outputs": [
    {
     "data": {
      "text/plain": [
       "[36, 37, 72, 'hitesh', 73635, 87776, 876544]"
      ]
     },
     "execution_count": 14,
     "metadata": {},
     "output_type": "execute_result"
    }
   ],
   "source": [
    "hite"
   ]
  },
  {
   "cell_type": "code",
   "execution_count": null,
   "id": "4007a9f4",
   "metadata": {},
   "outputs": [],
   "source": []
  }
 ],
 "metadata": {
  "kernelspec": {
   "display_name": "Python 3 (ipykernel)",
   "language": "python",
   "name": "python3"
  },
  "language_info": {
   "codemirror_mode": {
    "name": "ipython",
    "version": 3
   },
   "file_extension": ".py",
   "mimetype": "text/x-python",
   "name": "python",
   "nbconvert_exporter": "python",
   "pygments_lexer": "ipython3",
   "version": "3.10.9"
  }
 },
 "nbformat": 4,
 "nbformat_minor": 5
}
