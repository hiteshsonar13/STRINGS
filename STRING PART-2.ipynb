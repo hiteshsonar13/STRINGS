{
 "cells": [
  {
   "cell_type": "markdown",
   "id": "b26e9eff",
   "metadata": {},
   "source": [
    "# STRINGS"
   ]
  },
  {
   "cell_type": "markdown",
   "id": "5e055bcc",
   "metadata": {},
   "source": [
    "#### Character Sequence\n",
    "#### Text\n",
    "#### Value\n",
    "#### <<\"  \">> or <<'  '>>"
   ]
  },
  {
   "cell_type": "code",
   "execution_count": 3,
   "id": "c35a82ab",
   "metadata": {},
   "outputs": [],
   "source": [
    "A=\"python\""
   ]
  },
  {
   "cell_type": "code",
   "execution_count": 5,
   "id": "65130701",
   "metadata": {},
   "outputs": [
    {
     "data": {
      "text/plain": [
       "'python'"
      ]
     },
     "execution_count": 5,
     "metadata": {},
     "output_type": "execute_result"
    }
   ],
   "source": [
    "A"
   ]
  },
  {
   "cell_type": "code",
   "execution_count": 6,
   "id": "5d5b0166",
   "metadata": {},
   "outputs": [],
   "source": [
    "B='python'"
   ]
  },
  {
   "cell_type": "code",
   "execution_count": 7,
   "id": "51c3c609",
   "metadata": {},
   "outputs": [
    {
     "data": {
      "text/plain": [
       "'python'"
      ]
     },
     "execution_count": 7,
     "metadata": {},
     "output_type": "execute_result"
    }
   ],
   "source": [
    "B"
   ]
  },
  {
   "cell_type": "code",
   "execution_count": 8,
   "id": "43f63e93",
   "metadata": {},
   "outputs": [],
   "source": [
    "C='python'"
   ]
  },
  {
   "cell_type": "code",
   "execution_count": 10,
   "id": "e431cb23",
   "metadata": {},
   "outputs": [
    {
     "ename": "NameError",
     "evalue": "name 'C' is not defined",
     "output_type": "error",
     "traceback": [
      "\u001b[1;31m---------------------------------------------------------------------------\u001b[0m",
      "\u001b[1;31mNameError\u001b[0m                                 Traceback (most recent call last)",
      "Cell \u001b[1;32mIn[10], line 1\u001b[0m\n\u001b[1;32m----> 1\u001b[0m \u001b[43mC\u001b[49m\n",
      "\u001b[1;31mNameError\u001b[0m: name 'C' is not defined"
     ]
    }
   ],
   "source": [
    "C"
   ]
  },
  {
   "cell_type": "code",
   "execution_count": 18,
   "id": "27154dea",
   "metadata": {},
   "outputs": [
    {
     "ename": "TypeError",
     "evalue": "'str' object is not callable",
     "output_type": "error",
     "traceback": [
      "\u001b[1;31m---------------------------------------------------------------------------\u001b[0m",
      "\u001b[1;31mTypeError\u001b[0m                                 Traceback (most recent call last)",
      "Cell \u001b[1;32mIn[18], line 1\u001b[0m\n\u001b[1;32m----> 1\u001b[0m \u001b[43mString\u001b[49m\u001b[43m(\u001b[49m\u001b[38;5;241;43m0\u001b[39;49m\u001b[43m)\u001b[49m\n",
      "\u001b[1;31mTypeError\u001b[0m: 'str' object is not callable"
     ]
    }
   ],
   "source": [
    "String(0)"
   ]
  },
  {
   "cell_type": "code",
   "execution_count": 21,
   "id": "d151bfb1",
   "metadata": {},
   "outputs": [],
   "source": [
    "string=\"London\""
   ]
  },
  {
   "cell_type": "code",
   "execution_count": 22,
   "id": "6d0901ff",
   "metadata": {},
   "outputs": [
    {
     "data": {
      "text/plain": [
       "'L'"
      ]
     },
     "execution_count": 22,
     "metadata": {},
     "output_type": "execute_result"
    }
   ],
   "source": [
    "string[0]"
   ]
  },
  {
   "cell_type": "code",
   "execution_count": 23,
   "id": "d5c3c6f9",
   "metadata": {},
   "outputs": [
    {
     "data": {
      "text/plain": [
       "'d'"
      ]
     },
     "execution_count": 23,
     "metadata": {},
     "output_type": "execute_result"
    }
   ],
   "source": [
    "string[3]"
   ]
  },
  {
   "cell_type": "markdown",
   "id": "7aeb016e",
   "metadata": {},
   "source": [
    "#### Take a Bracket Like [   ] for find out the place of word"
   ]
  },
  {
   "cell_type": "code",
   "execution_count": 25,
   "id": "571755c1",
   "metadata": {},
   "outputs": [],
   "source": [
    "string_2=\"London is a beautiful city\""
   ]
  },
  {
   "cell_type": "code",
   "execution_count": 26,
   "id": "67aec896",
   "metadata": {},
   "outputs": [
    {
     "data": {
      "text/plain": [
       "'London is a beautiful city'"
      ]
     },
     "execution_count": 26,
     "metadata": {},
     "output_type": "execute_result"
    }
   ],
   "source": [
    "string_2"
   ]
  },
  {
   "cell_type": "code",
   "execution_count": 27,
   "id": "bf5d31ea",
   "metadata": {},
   "outputs": [
    {
     "data": {
      "text/plain": [
       "'n is a beau'"
      ]
     },
     "execution_count": 27,
     "metadata": {},
     "output_type": "execute_result"
    }
   ],
   "source": [
    "string_2[5:16]"
   ]
  },
  {
   "cell_type": "code",
   "execution_count": 28,
   "id": "9e69563f",
   "metadata": {},
   "outputs": [
    {
     "data": {
      "text/plain": [
       "'London is a beautiful city'"
      ]
     },
     "execution_count": 28,
     "metadata": {},
     "output_type": "execute_result"
    }
   ],
   "source": [
    "string_2[:]"
   ]
  },
  {
   "cell_type": "code",
   "execution_count": 30,
   "id": "14cfe3a3",
   "metadata": {},
   "outputs": [
    {
     "data": {
      "text/plain": [
       "'London is '"
      ]
     },
     "execution_count": 30,
     "metadata": {},
     "output_type": "execute_result"
    }
   ],
   "source": [
    "string_2[:10]"
   ]
  },
  {
   "cell_type": "markdown",
   "id": "89b4af57",
   "metadata": {},
   "source": [
    "### Methods"
   ]
  },
  {
   "cell_type": "markdown",
   "id": "85ba60bb",
   "metadata": {},
   "source": [
    "#### * len(  )\n",
    "#### * strip(  )\n",
    "#### * lower(  )\n",
    "#### * upper(  )\n",
    "#### * replace(  )\n",
    "#### * ....(It is a Compulsory Before the word)"
   ]
  },
  {
   "cell_type": "markdown",
   "id": "bbcc8ac9",
   "metadata": {},
   "source": [
    "##### Before Example string & string_2"
   ]
  },
  {
   "cell_type": "markdown",
   "id": "42fdaf8b",
   "metadata": {},
   "source": [
    "#### LEN"
   ]
  },
  {
   "cell_type": "code",
   "execution_count": 32,
   "id": "b8abb6c0",
   "metadata": {},
   "outputs": [
    {
     "data": {
      "text/plain": [
       "6"
      ]
     },
     "execution_count": 32,
     "metadata": {},
     "output_type": "execute_result"
    }
   ],
   "source": [
    "len(string)"
   ]
  },
  {
   "cell_type": "code",
   "execution_count": 33,
   "id": "e59079ff",
   "metadata": {},
   "outputs": [
    {
     "data": {
      "text/plain": [
       "26"
      ]
     },
     "execution_count": 33,
     "metadata": {},
     "output_type": "execute_result"
    }
   ],
   "source": [
    "len(string_2)"
   ]
  },
  {
   "cell_type": "markdown",
   "id": "8eb70376",
   "metadata": {},
   "source": [
    "##### (This method's count How many words)"
   ]
  },
  {
   "cell_type": "markdown",
   "id": "fd64fc95",
   "metadata": {},
   "source": [
    "#### STRIP"
   ]
  },
  {
   "cell_type": "code",
   "execution_count": 34,
   "id": "5a8d6b06",
   "metadata": {},
   "outputs": [
    {
     "data": {
      "text/plain": [
       "'London is a very beautiful city'"
      ]
     },
     "execution_count": 34,
     "metadata": {},
     "output_type": "execute_result"
    }
   ],
   "source": [
    "\"            London is a very beautiful city\".strip()"
   ]
  },
  {
   "cell_type": "code",
   "execution_count": 35,
   "id": "0c962d7e",
   "metadata": {},
   "outputs": [
    {
     "data": {
      "text/plain": [
       "'London'"
      ]
     },
     "execution_count": 35,
     "metadata": {},
     "output_type": "execute_result"
    }
   ],
   "source": [
    "\"<<<<<London\".strip(\"<\")"
   ]
  },
  {
   "cell_type": "markdown",
   "id": "1cdda06f",
   "metadata": {},
   "source": [
    "##### (This Method is use for we can remove any word & any Space)"
   ]
  },
  {
   "cell_type": "markdown",
   "id": "ee4b64f4",
   "metadata": {},
   "source": [
    "#### LOWER"
   ]
  },
  {
   "cell_type": "code",
   "execution_count": 44,
   "id": "344e90f7",
   "metadata": {},
   "outputs": [
    {
     "data": {
      "text/plain": [
       "'london'"
      ]
     },
     "execution_count": 44,
     "metadata": {},
     "output_type": "execute_result"
    }
   ],
   "source": [
    "\"LONDON\".lower()"
   ]
  },
  {
   "cell_type": "markdown",
   "id": "58ab41ff",
   "metadata": {},
   "source": [
    "##### (This Method you can use upper case convert to lower case)"
   ]
  },
  {
   "cell_type": "markdown",
   "id": "72d62da2",
   "metadata": {},
   "source": [
    "#### UPPER"
   ]
  },
  {
   "cell_type": "code",
   "execution_count": 43,
   "id": "78fbaff2",
   "metadata": {},
   "outputs": [
    {
     "data": {
      "text/plain": [
       "'LONDON'"
      ]
     },
     "execution_count": 43,
     "metadata": {},
     "output_type": "execute_result"
    }
   ],
   "source": [
    "\"london\".upper()"
   ]
  },
  {
   "cell_type": "markdown",
   "id": "cb9c19f6",
   "metadata": {},
   "source": [
    "##### (This Method you can use lower case convert to upper case)"
   ]
  },
  {
   "cell_type": "code",
   "execution_count": null,
   "id": "b297ac68",
   "metadata": {},
   "outputs": [],
   "source": []
  },
  {
   "cell_type": "markdown",
   "id": "98a11f54",
   "metadata": {},
   "source": [
    "#### REPLACE"
   ]
  },
  {
   "cell_type": "code",
   "execution_count": 45,
   "id": "09ba1c19",
   "metadata": {},
   "outputs": [
    {
     "data": {
      "text/plain": [
       "'Delhi is the capital of India'"
      ]
     },
     "execution_count": 45,
     "metadata": {},
     "output_type": "execute_result"
    }
   ],
   "source": [
    "\"Mumbai is the capital of India\".replace(\"Mumbai\",\"Delhi\")"
   ]
  },
  {
   "cell_type": "markdown",
   "id": "9cfb18fc",
   "metadata": {},
   "source": [
    "##### (This Method you can use for replace the words)"
   ]
  },
  {
   "cell_type": "code",
   "execution_count": null,
   "id": "8a742fd2",
   "metadata": {},
   "outputs": [],
   "source": []
  },
  {
   "cell_type": "markdown",
   "id": "5c451ae9",
   "metadata": {},
   "source": [
    "# DATA TYPE CONVERSION"
   ]
  },
  {
   "cell_type": "markdown",
   "id": "91b4cd57",
   "metadata": {},
   "source": [
    "##### int( )"
   ]
  },
  {
   "cell_type": "markdown",
   "id": "7c41aac5",
   "metadata": {},
   "source": [
    "##### Float()"
   ]
  },
  {
   "cell_type": "markdown",
   "id": "ba5f0f4c",
   "metadata": {},
   "source": [
    "##### str()"
   ]
  },
  {
   "cell_type": "markdown",
   "id": "b9bd66a3",
   "metadata": {},
   "source": [
    "###### int to float"
   ]
  },
  {
   "cell_type": "code",
   "execution_count": 2,
   "id": "1a6eb115",
   "metadata": {},
   "outputs": [],
   "source": [
    "A=25"
   ]
  },
  {
   "cell_type": "code",
   "execution_count": 3,
   "id": "0dab5923",
   "metadata": {},
   "outputs": [
    {
     "data": {
      "text/plain": [
       "25"
      ]
     },
     "execution_count": 3,
     "metadata": {},
     "output_type": "execute_result"
    }
   ],
   "source": [
    "A"
   ]
  },
  {
   "cell_type": "code",
   "execution_count": 4,
   "id": "ff715f34",
   "metadata": {},
   "outputs": [
    {
     "data": {
      "text/plain": [
       "25.0"
      ]
     },
     "execution_count": 4,
     "metadata": {},
     "output_type": "execute_result"
    }
   ],
   "source": [
    "float(A)"
   ]
  },
  {
   "cell_type": "code",
   "execution_count": null,
   "id": "dcd138ed",
   "metadata": {},
   "outputs": [],
   "source": []
  },
  {
   "cell_type": "markdown",
   "id": "d8e90d7a",
   "metadata": {},
   "source": [
    "###### float to int"
   ]
  },
  {
   "cell_type": "code",
   "execution_count": 5,
   "id": "33847c80",
   "metadata": {},
   "outputs": [],
   "source": [
    "B=25.5"
   ]
  },
  {
   "cell_type": "code",
   "execution_count": 6,
   "id": "b71d6003",
   "metadata": {},
   "outputs": [
    {
     "data": {
      "text/plain": [
       "25.5"
      ]
     },
     "execution_count": 6,
     "metadata": {},
     "output_type": "execute_result"
    }
   ],
   "source": [
    "B"
   ]
  },
  {
   "cell_type": "code",
   "execution_count": 7,
   "id": "ded62a82",
   "metadata": {},
   "outputs": [
    {
     "data": {
      "text/plain": [
       "25"
      ]
     },
     "execution_count": 7,
     "metadata": {},
     "output_type": "execute_result"
    }
   ],
   "source": [
    "int(B)"
   ]
  },
  {
   "cell_type": "code",
   "execution_count": 47,
   "id": "ee545e23",
   "metadata": {},
   "outputs": [],
   "source": [
    "Number = 1234654646456465465463542324"
   ]
  },
  {
   "cell_type": "code",
   "execution_count": 48,
   "id": "3f4a1bb9",
   "metadata": {},
   "outputs": [
    {
     "data": {
      "text/plain": [
       "int"
      ]
     },
     "execution_count": 48,
     "metadata": {},
     "output_type": "execute_result"
    }
   ],
   "source": [
    "type(Number)"
   ]
  },
  {
   "cell_type": "code",
   "execution_count": 49,
   "id": "ab8edc34",
   "metadata": {},
   "outputs": [],
   "source": [
    "String=str(Number)"
   ]
  },
  {
   "cell_type": "code",
   "execution_count": 50,
   "id": "a390d6c2",
   "metadata": {},
   "outputs": [
    {
     "data": {
      "text/plain": [
       "'1234654646456465465463542324'"
      ]
     },
     "execution_count": 50,
     "metadata": {},
     "output_type": "execute_result"
    }
   ],
   "source": [
    "String"
   ]
  },
  {
   "cell_type": "code",
   "execution_count": 51,
   "id": "bd921c39",
   "metadata": {},
   "outputs": [
    {
     "data": {
      "text/plain": [
       "str"
      ]
     },
     "execution_count": 51,
     "metadata": {},
     "output_type": "execute_result"
    }
   ],
   "source": [
    "type(String)"
   ]
  },
  {
   "cell_type": "code",
   "execution_count": 52,
   "id": "3083db77",
   "metadata": {},
   "outputs": [],
   "source": [
    "Number1 = int(String)"
   ]
  },
  {
   "cell_type": "code",
   "execution_count": 53,
   "id": "1dae40f7",
   "metadata": {},
   "outputs": [
    {
     "data": {
      "text/plain": [
       "1234654646456465465463542324"
      ]
     },
     "execution_count": 53,
     "metadata": {},
     "output_type": "execute_result"
    }
   ],
   "source": [
    "Number1"
   ]
  },
  {
   "cell_type": "code",
   "execution_count": 54,
   "id": "a915d988",
   "metadata": {},
   "outputs": [
    {
     "data": {
      "text/plain": [
       "int"
      ]
     },
     "execution_count": 54,
     "metadata": {},
     "output_type": "execute_result"
    }
   ],
   "source": [
    "type(Number1)"
   ]
  },
  {
   "cell_type": "code",
   "execution_count": 55,
   "id": "c78564af",
   "metadata": {},
   "outputs": [
    {
     "data": {
      "text/plain": [
       "str"
      ]
     },
     "execution_count": 55,
     "metadata": {},
     "output_type": "execute_result"
    }
   ],
   "source": [
    "type(String)"
   ]
  },
  {
   "cell_type": "code",
   "execution_count": 56,
   "id": "a7f51cb7",
   "metadata": {},
   "outputs": [
    {
     "data": {
      "text/plain": [
       "str"
      ]
     },
     "execution_count": 56,
     "metadata": {},
     "output_type": "execute_result"
    }
   ],
   "source": [
    "type(String)"
   ]
  },
  {
   "cell_type": "code",
   "execution_count": 60,
   "id": "97e74b0c",
   "metadata": {},
   "outputs": [],
   "source": [
    "hitesh_s =\"142627\""
   ]
  },
  {
   "cell_type": "code",
   "execution_count": 61,
   "id": "ca4df8fc",
   "metadata": {},
   "outputs": [
    {
     "data": {
      "text/plain": [
       "'142627'"
      ]
     },
     "execution_count": 61,
     "metadata": {},
     "output_type": "execute_result"
    }
   ],
   "source": [
    "hitesh_s"
   ]
  },
  {
   "cell_type": "code",
   "execution_count": 62,
   "id": "efb3ba9b",
   "metadata": {},
   "outputs": [
    {
     "data": {
      "text/plain": [
       "str"
      ]
     },
     "execution_count": 62,
     "metadata": {},
     "output_type": "execute_result"
    }
   ],
   "source": [
    "type(hitesh_s)"
   ]
  },
  {
   "cell_type": "code",
   "execution_count": 63,
   "id": "25ddf5f1",
   "metadata": {},
   "outputs": [
    {
     "ename": "TypeError",
     "evalue": "'float' object is not callable",
     "output_type": "error",
     "traceback": [
      "\u001b[1;31m---------------------------------------------------------------------------\u001b[0m",
      "\u001b[1;31mTypeError\u001b[0m                                 Traceback (most recent call last)",
      "Cell \u001b[1;32mIn[63], line 1\u001b[0m\n\u001b[1;32m----> 1\u001b[0m dr\u001b[38;5;241m=\u001b[39m\u001b[38;5;28;43mfloat\u001b[39;49m\u001b[43m(\u001b[49m\u001b[43mhitesh_s\u001b[49m\u001b[43m)\u001b[49m\n",
      "\u001b[1;31mTypeError\u001b[0m: 'float' object is not callable"
     ]
    }
   ],
   "source": [
    "dr=float(hitesh_s)"
   ]
  },
  {
   "cell_type": "code",
   "execution_count": 64,
   "id": "496f060b",
   "metadata": {},
   "outputs": [],
   "source": [
    "String='123564577'"
   ]
  },
  {
   "cell_type": "code",
   "execution_count": 70,
   "id": "ed4256c0",
   "metadata": {},
   "outputs": [
    {
     "data": {
      "text/plain": [
       "str"
      ]
     },
     "execution_count": 70,
     "metadata": {},
     "output_type": "execute_result"
    }
   ],
   "source": [
    "type(String)"
   ]
  },
  {
   "cell_type": "code",
   "execution_count": 73,
   "id": "29e4e4b4",
   "metadata": {},
   "outputs": [
    {
     "ename": "TypeError",
     "evalue": "'float' object is not callable",
     "output_type": "error",
     "traceback": [
      "\u001b[1;31m---------------------------------------------------------------------------\u001b[0m",
      "\u001b[1;31mTypeError\u001b[0m                                 Traceback (most recent call last)",
      "Cell \u001b[1;32mIn[73], line 1\u001b[0m\n\u001b[1;32m----> 1\u001b[0m heiei\u001b[38;5;241m=\u001b[39m\u001b[38;5;28;43mfloat\u001b[39;49m\u001b[43m(\u001b[49m\u001b[43mString\u001b[49m\u001b[43m)\u001b[49m\n",
      "\u001b[1;31mTypeError\u001b[0m: 'float' object is not callable"
     ]
    }
   ],
   "source": [
    "heiei=float(String)"
   ]
  },
  {
   "cell_type": "code",
   "execution_count": null,
   "id": "a354faa1",
   "metadata": {},
   "outputs": [],
   "source": []
  },
  {
   "cell_type": "markdown",
   "id": "0d7c09ee",
   "metadata": {},
   "source": [
    "#### Example E Mail Id Generator"
   ]
  },
  {
   "cell_type": "code",
   "execution_count": null,
   "id": "401abcf8",
   "metadata": {},
   "outputs": [],
   "source": [
    "user = input(\"please enter your name: \")\n",
    "user_edit = user.replace(\"\",\"\")\n",
    "company_name =input(\"please enter your company name: \")\n",
    "company_edit=company_name.replace(\"\",\"\")\n",
    "Email_Address=usedr_edit+\"@\"+company_edit+\".com\"\n",
    "Email_edit=Email_address.lower()\n",
    "print(\"Email_Address: \",Email_edit)"
   ]
  },
  {
   "cell_type": "code",
   "execution_count": null,
   "id": "879554de",
   "metadata": {},
   "outputs": [],
   "source": [
    "user_name=input(\"please enter your name : \")\n",
    "user_name_edit=user_name.replace(\" \",\" \")"
   ]
  },
  {
   "cell_type": "code",
   "execution_count": 79,
   "id": "bfcb6a55",
   "metadata": {},
   "outputs": [
    {
     "name": "stdout",
     "output_type": "stream",
     "text": [
      "please enter your name: sapl\n",
      "please enter your company name: seva_automotive\n",
      "Email_Address:  sapl@seva_automotive.com\n"
     ]
    }
   ],
   "source": [
    "user = input(\"please enter your name: \")\n",
    "user_edit = user.replace(\"\",\"\")\n",
    "company_name =input(\"please enter your company name: \")\n",
    "company_edit=company_name.replace(\"\",\"\")\n",
    "Email_Address=user_edit+\"@\"+company_edit+\".com\"\n",
    "Email_edit=Email_Address.lower()\n",
    "print(\"Email_Address: \",Email_edit)"
   ]
  },
  {
   "cell_type": "code",
   "execution_count": 80,
   "id": "6ccc6abe",
   "metadata": {},
   "outputs": [
    {
     "name": "stdout",
     "output_type": "stream",
     "text": [
      "please enter your name: sapl\n",
      "please enter your company name: seva_automotive\n",
      "Email_Address:  sapl@seva_automotive.com\n"
     ]
    }
   ],
   "source": [
    "user = input(\"please enter your name: \")\n",
    "company_name =input(\"please enter your company name: \")\n",
    "Email_Address=user_edit+\"@\"+company_edit+\".com\"\n",
    "Email_edit=Email_Address.lower()\n",
    "print(\"Email_Address: \",Email_edit)"
   ]
  },
  {
   "cell_type": "code",
   "execution_count": 2,
   "id": "50057e1f",
   "metadata": {},
   "outputs": [
    {
     "name": "stdout",
     "output_type": "stream",
     "text": [
      "Enter age: 40\n",
      "Bus fare is 30\n"
     ]
    }
   ],
   "source": [
    "age=int(input(\"Enter age: \"))\n",
    "if(0<age<3):\n",
    "    print(\"No fares for age group 0-3\")\n",
    "elif(3<age<10):\n",
    "    print(\"Bus fare is 10\")\n",
    "elif(10<age<20):\n",
    "    print(\"Bus fare is 20\")\n",
    "elif(20<age<30):\n",
    "    print(\"Bus fare is 30\")\n",
    "if(60<age<90):\n",
    "    print(\"NO fare for age 60-90\")\n",
    "else:\n",
    "    print(\"Bus fare is 30\")"
   ]
  },
  {
   "cell_type": "code",
   "execution_count": 1,
   "id": "f6541388",
   "metadata": {},
   "outputs": [
    {
     "name": "stdout",
     "output_type": "stream",
     "text": [
      "enter your rank: 15\n",
      "You Will Best Next Time\n"
     ]
    }
   ],
   "source": [
    "mark=int(input(\"enter your rank: \"))\n",
    "if(30<mark<55):\n",
    "    print(\"fifth rank in Navy between 30-55\")\n",
    "elif(55<mark<65):\n",
    "    print(\"fourth rank in Navy for 55-65\")\n",
    "elif(65<mark<75):\n",
    "    print(\"third rank in Navy for 65-75 \")\n",
    "elif(75<mark<85):\n",
    "    print(\"secount rank in Navy for 75-85\")\n",
    "elif(85<mark<100):\n",
    "    print(\"first rank in Navy for 85-100\")\n",
    "else:\n",
    "    print(\"You Will Best Next Time\") "
   ]
  },
  {
   "cell_type": "code",
   "execution_count": null,
   "id": "71cc6337",
   "metadata": {},
   "outputs": [],
   "source": [
    "point=int(input(\"inter your point\"))\n",
    "if(1000<point<10000)\n",
    "print()"
   ]
  },
  {
   "cell_type": "code",
   "execution_count": 28,
   "id": "563d0493",
   "metadata": {},
   "outputs": [
    {
     "name": "stdout",
     "output_type": "stream",
     "text": [
      "17736363663 is greater\n"
     ]
    }
   ],
   "source": [
    "# find out the largest number of teh given numbers\n",
    "num1=17736363663\n",
    "num2=27736363.9333\n",
    "num3=269\n",
    "if(num1>num2>num3):\n",
    "    print(num1, \"is greater\")\n",
    "else:\n",
    "    if (num3>num2):\n",
    "        print(num3, \"is greater\")\n",
    "    else:\n",
    "        print(num2, \"is greater\")    \n",
    "    "
   ]
  },
  {
   "cell_type": "code",
   "execution_count": 3,
   "id": "f9b7bf51",
   "metadata": {},
   "outputs": [
    {
     "name": "stdout",
     "output_type": "stream",
     "text": [
      "please enter your email id jldf\n",
      "please enter your passwordfljf\n",
      "'Wrong Password Please Try Again'\n"
     ]
    }
   ],
   "source": [
    "ID=input(\"please enter your email id \")\n",
    "pas=input(\"please enter your password\")\n",
    "if(ID==\"sonarsanjay94@gmail.com\"):\n",
    "    if(pas==\"Sonar@988\"):\n",
    "        print(\"Log In Successful\")\n",
    "else:\n",
    "    print(\"'Wrong Password Please Try Again'\")"
   ]
  },
  {
   "cell_type": "code",
   "execution_count": null,
   "id": "0bb458fa",
   "metadata": {},
   "outputs": [],
   "source": []
  },
  {
   "cell_type": "code",
   "execution_count": null,
   "id": "2110f0f6",
   "metadata": {},
   "outputs": [],
   "source": []
  },
  {
   "cell_type": "code",
   "execution_count": null,
   "id": "08869008",
   "metadata": {},
   "outputs": [],
   "source": []
  },
  {
   "cell_type": "code",
   "execution_count": null,
   "id": "3711e2df",
   "metadata": {},
   "outputs": [],
   "source": []
  }
 ],
 "metadata": {
  "kernelspec": {
   "display_name": "Python 3 (ipykernel)",
   "language": "python",
   "name": "python3"
  },
  "language_info": {
   "codemirror_mode": {
    "name": "ipython",
    "version": 3
   },
   "file_extension": ".py",
   "mimetype": "text/x-python",
   "name": "python",
   "nbconvert_exporter": "python",
   "pygments_lexer": "ipython3",
   "version": "3.10.9"
  }
 },
 "nbformat": 4,
 "nbformat_minor": 5
}
